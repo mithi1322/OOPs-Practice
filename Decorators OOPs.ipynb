{
 "cells": [
  {
   "cell_type": "code",
   "execution_count": 5,
   "id": "16f80fb8-83fe-42ea-9784-b1bdbbcc1add",
   "metadata": {},
   "outputs": [],
   "source": [
    "def test():\n",
    "    print(\"this is start of my function\")\n",
    "    print('this is my first function')\n",
    "    print(21+3)\n",
    "    print(\"this is end of my function\")"
   ]
  },
  {
   "cell_type": "code",
   "execution_count": 6,
   "id": "686111b3-3404-41c9-9cc7-802b785d949f",
   "metadata": {},
   "outputs": [
    {
     "name": "stdout",
     "output_type": "stream",
     "text": [
      "this is start of my function\n",
      "this is my first function\n",
      "24\n",
      "this is end of my function\n"
     ]
    }
   ],
   "source": [
    "test()\n"
   ]
  },
  {
   "cell_type": "code",
   "execution_count": 8,
   "id": "59796ae4-5ad9-42d4-845c-67fe090aadaa",
   "metadata": {},
   "outputs": [],
   "source": [
    "def decorate(func):\n",
    "    def inner_deco():\n",
    "        print(\"this is start of my function\")\n",
    "        func()\n",
    "        print('this is the end of my function')\n",
    "    return inner_deco\n"
   ]
  },
  {
   "cell_type": "code",
   "execution_count": 9,
   "id": "f7700243-685b-4ff1-bf76-622506b8a2e8",
   "metadata": {},
   "outputs": [],
   "source": [
    "@decorate \n",
    "def test1():\n",
    "    print(32+23)"
   ]
  },
  {
   "cell_type": "code",
   "execution_count": 10,
   "id": "d53af1f4-0d8c-49f6-a2ff-2ec15eb7e37d",
   "metadata": {},
   "outputs": [
    {
     "name": "stdout",
     "output_type": "stream",
     "text": [
      "this is start of my function\n",
      "55\n",
      "this is the end of my function\n"
     ]
    }
   ],
   "source": [
    "test1()"
   ]
  },
  {
   "cell_type": "code",
   "execution_count": 19,
   "id": "0afe0c06-d21b-4334-8247-a093d59bc99d",
   "metadata": {},
   "outputs": [],
   "source": [
    "import time\n",
    "\n",
    "def timer_test(func):\n",
    "    def timer_test_inner():\n",
    "        start=time.time()\n",
    "        func()\n",
    "        end=time.time()\n",
    "        print(end-start)\n",
    "    return timer_test_inner\n",
    "    "
   ]
  },
  {
   "cell_type": "code",
   "execution_count": 20,
   "id": "f74f734c-21ad-4264-bd0e-55ef7b0f7656",
   "metadata": {},
   "outputs": [],
   "source": [
    "def test2():\n",
    "    print(121+12)"
   ]
  },
  {
   "cell_type": "code",
   "execution_count": 21,
   "id": "cc15feb8-0b57-4954-98d0-89298f53e615",
   "metadata": {},
   "outputs": [
    {
     "name": "stdout",
     "output_type": "stream",
     "text": [
      "133\n"
     ]
    }
   ],
   "source": [
    "test2()"
   ]
  },
  {
   "cell_type": "code",
   "execution_count": 22,
   "id": "e5327a82-4202-48b0-a0f2-00fc14180bb2",
   "metadata": {},
   "outputs": [],
   "source": [
    "@timer_test\n",
    "def test2():\n",
    "    print(121+12)"
   ]
  },
  {
   "cell_type": "code",
   "execution_count": 23,
   "id": "10c11fcb-9cfa-4029-8e86-19b8ed950321",
   "metadata": {},
   "outputs": [
    {
     "name": "stdout",
     "output_type": "stream",
     "text": [
      "133\n",
      "4.458427429199219e-05\n"
     ]
    }
   ],
   "source": [
    "test2()"
   ]
  },
  {
   "cell_type": "code",
   "execution_count": 25,
   "id": "dd4ceb6a-f32f-4f49-91e3-3b4e857da3fe",
   "metadata": {},
   "outputs": [],
   "source": [
    "@timer_test\n",
    "def test():\n",
    "    for i in range(12121):\n",
    "        pass"
   ]
  },
  {
   "cell_type": "code",
   "execution_count": 26,
   "id": "4673ebf6-e6a4-4149-bd84-cf3d7418dc97",
   "metadata": {},
   "outputs": [
    {
     "name": "stdout",
     "output_type": "stream",
     "text": [
      "0.00025653839111328125\n"
     ]
    }
   ],
   "source": [
    "test()\n"
   ]
  },
  {
   "cell_type": "code",
   "execution_count": null,
   "id": "41f40a41-5847-4dda-a45a-dfb9441089e3",
   "metadata": {},
   "outputs": [],
   "source": []
  }
 ],
 "metadata": {
  "kernelspec": {
   "display_name": "Python 3 (ipykernel)",
   "language": "python",
   "name": "python3"
  },
  "language_info": {
   "codemirror_mode": {
    "name": "ipython",
    "version": 3
   },
   "file_extension": ".py",
   "mimetype": "text/x-python",
   "name": "python",
   "nbconvert_exporter": "python",
   "pygments_lexer": "ipython3",
   "version": "3.10.8"
  }
 },
 "nbformat": 4,
 "nbformat_minor": 5
}
