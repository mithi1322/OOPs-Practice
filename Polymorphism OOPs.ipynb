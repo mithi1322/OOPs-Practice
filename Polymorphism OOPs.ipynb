{
 "cells": [
  {
   "cell_type": "code",
   "execution_count": 2,
   "id": "13c64106-65d1-4d82-a129-425d4f58d729",
   "metadata": {},
   "outputs": [],
   "source": [
    "def test(a,b):\n",
    "    return a+b"
   ]
  },
  {
   "cell_type": "code",
   "execution_count": 4,
   "id": "99c69d2b-dd88-4ff4-badc-1ff075dd94fc",
   "metadata": {},
   "outputs": [
    {
     "data": {
      "text/plain": [
       "5"
      ]
     },
     "execution_count": 4,
     "metadata": {},
     "output_type": "execute_result"
    }
   ],
   "source": [
    "test(2,3)"
   ]
  },
  {
   "cell_type": "code",
   "execution_count": 6,
   "id": "779a4893-e594-4c22-a592-219323fc89d6",
   "metadata": {},
   "outputs": [
    {
     "data": {
      "text/plain": [
       "'Mithilesh Jaiswal'"
      ]
     },
     "execution_count": 6,
     "metadata": {},
     "output_type": "execute_result"
    }
   ],
   "source": [
    "test(\"Mithilesh\",\" Jaiswal\")"
   ]
  },
  {
   "cell_type": "code",
   "execution_count": 7,
   "id": "14739bb3-4539-4454-9d41-e1cb68a115fa",
   "metadata": {},
   "outputs": [
    {
     "data": {
      "text/plain": [
       "[11, 34, 45, 6, 21, 34, 5, 2]"
      ]
     },
     "execution_count": 7,
     "metadata": {},
     "output_type": "execute_result"
    }
   ],
   "source": [
    "test([11,34,45,6],[21,34,5,2])"
   ]
  },
  {
   "cell_type": "code",
   "execution_count": 25,
   "id": "df34c876-1312-41c7-942a-43df82e34005",
   "metadata": {},
   "outputs": [],
   "source": [
    "class data_science:\n",
    "    def syllabus(self):\n",
    "        print(\"this is my syllabus of data science master\")\n",
    "              "
   ]
  },
  {
   "cell_type": "code",
   "execution_count": 26,
   "id": "71eaa370-de8a-46dd-b50a-c82188209b07",
   "metadata": {},
   "outputs": [],
   "source": [
    "class web_dev:\n",
    "    def syllabus(self):\n",
    "        print(\"this is my syllabus for web dev\")"
   ]
  },
  {
   "cell_type": "code",
   "execution_count": 27,
   "id": "4bdb9e94-3e0a-460a-9304-f36aaaf64501",
   "metadata": {},
   "outputs": [],
   "source": [
    "def class_pass(class_obj):\n",
    "    for i in class_obj:\n",
    "        i.syllabus()\n",
    "        "
   ]
  },
  {
   "cell_type": "code",
   "execution_count": 28,
   "id": "ed6aa916-6c59-48f4-b9ae-b2f2243b204b",
   "metadata": {},
   "outputs": [],
   "source": [
    "data_science=data_science()\n",
    "web_dev=web_dev()"
   ]
  },
  {
   "cell_type": "code",
   "execution_count": 29,
   "id": "0581d57e-229f-42f6-9ee7-9a40f9ca46b7",
   "metadata": {},
   "outputs": [],
   "source": [
    "class_obj=[data_science,web_dev]"
   ]
  },
  {
   "cell_type": "code",
   "execution_count": 30,
   "id": "a38feb74-38f1-41db-a118-f53f66e98f26",
   "metadata": {},
   "outputs": [
    {
     "name": "stdout",
     "output_type": "stream",
     "text": [
      "this is my syllabus of data science master\n",
      "this is my syllabus for web dev\n"
     ]
    }
   ],
   "source": [
    "class_pass(class_obj)"
   ]
  },
  {
   "cell_type": "code",
   "execution_count": null,
   "id": "db7a3594-12e5-4440-8bf0-61df36240a29",
   "metadata": {},
   "outputs": [],
   "source": []
  }
 ],
 "metadata": {
  "kernelspec": {
   "display_name": "Python 3 (ipykernel)",
   "language": "python",
   "name": "python3"
  },
  "language_info": {
   "codemirror_mode": {
    "name": "ipython",
    "version": 3
   },
   "file_extension": ".py",
   "mimetype": "text/x-python",
   "name": "python",
   "nbconvert_exporter": "python",
   "pygments_lexer": "ipython3",
   "version": "3.10.8"
  }
 },
 "nbformat": 4,
 "nbformat_minor": 5
}
