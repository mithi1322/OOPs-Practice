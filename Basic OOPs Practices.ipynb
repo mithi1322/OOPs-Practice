{
 "cells": [
  {
   "cell_type": "markdown",
   "id": "56325425-3885-446f-ab25-14c76c30449c",
   "metadata": {},
   "source": [
    "\"oops\" stand for object-Oriented Programming System"
   ]
  },
  {
   "cell_type": "code",
   "execution_count": 1,
   "id": "7ababb95-4280-478f-9394-8aab17283fa7",
   "metadata": {},
   "outputs": [],
   "source": [
    "a=1"
   ]
  },
  {
   "cell_type": "code",
   "execution_count": 2,
   "id": "d17ebab2-8b06-40c6-8b5d-b72c4adfd7de",
   "metadata": {},
   "outputs": [
    {
     "name": "stdout",
     "output_type": "stream",
     "text": [
      "<class 'int'>\n"
     ]
    }
   ],
   "source": [
    "print(type(a))"
   ]
  },
  {
   "cell_type": "code",
   "execution_count": 3,
   "id": "6327d6be-7679-45bd-8584-1f27678fbce6",
   "metadata": {},
   "outputs": [
    {
     "name": "stdout",
     "output_type": "stream",
     "text": [
      "<class 'str'>\n"
     ]
    }
   ],
   "source": [
    "print(type(\"Mithilesh\"))"
   ]
  },
  {
   "cell_type": "code",
   "execution_count": 4,
   "id": "9180ff96-ccf3-4d4f-b3ff-7e98b4cf896b",
   "metadata": {},
   "outputs": [],
   "source": [
    "class test:\n",
    "    pass"
   ]
  },
  {
   "cell_type": "code",
   "execution_count": 5,
   "id": "2983bf8f-9506-4537-8c9e-a594afa8969e",
   "metadata": {},
   "outputs": [],
   "source": [
    "a=test()"
   ]
  },
  {
   "cell_type": "code",
   "execution_count": 6,
   "id": "1e97dfd0-538b-4bff-88b8-5a67197cfbef",
   "metadata": {},
   "outputs": [
    {
     "data": {
      "text/plain": [
       "__main__.test"
      ]
     },
     "execution_count": 6,
     "metadata": {},
     "output_type": "execute_result"
    }
   ],
   "source": [
    "type(a)"
   ]
  },
  {
   "cell_type": "code",
   "execution_count": 7,
   "id": "7ca82c7c-4ee9-4a4f-8495-a21f02c83266",
   "metadata": {},
   "outputs": [
    {
     "name": "stdout",
     "output_type": "stream",
     "text": [
      "<class '__main__.test'>\n"
     ]
    }
   ],
   "source": [
    "print(type(a))"
   ]
  },
  {
   "cell_type": "code",
   "execution_count": 13,
   "id": "92aebfbd-c30d-47d3-b299-b42e009d31fb",
   "metadata": {},
   "outputs": [],
   "source": [
    "class pwskills:\n",
    "    def welcome_msg(self):\n",
    "        print(\"Welcome to data science\")"
   ]
  },
  {
   "cell_type": "code",
   "execution_count": 14,
   "id": "78adddf5-08fa-4294-9588-fd92e2c201ed",
   "metadata": {},
   "outputs": [],
   "source": [
    "mithilesh=pwskills()"
   ]
  },
  {
   "cell_type": "code",
   "execution_count": 15,
   "id": "cc2b8ef0-4af8-4179-9ce5-cad32e14eb61",
   "metadata": {},
   "outputs": [
    {
     "name": "stdout",
     "output_type": "stream",
     "text": [
      "<class '__main__.pwskills'>\n"
     ]
    }
   ],
   "source": [
    "print(type(mithilesh))"
   ]
  },
  {
   "cell_type": "code",
   "execution_count": 16,
   "id": "631a53a1-59cd-4d3a-a019-376baab11482",
   "metadata": {},
   "outputs": [
    {
     "name": "stdout",
     "output_type": "stream",
     "text": [
      "Welcome to data science\n"
     ]
    }
   ],
   "source": [
    "mithilesh.welcome_msg()"
   ]
  },
  {
   "cell_type": "code",
   "execution_count": 12,
   "id": "ba088dd9-40af-4dd1-ba92-3441d67afa9c",
   "metadata": {},
   "outputs": [
    {
     "ename": "TypeError",
     "evalue": "pwskills.welcome_msg() takes 0 positional arguments but 1 was given",
     "output_type": "error",
     "traceback": [
      "\u001b[0;31m---------------------------------------------------------------------------\u001b[0m",
      "\u001b[0;31mTypeError\u001b[0m                                 Traceback (most recent call last)",
      "Cell \u001b[0;32mIn[12], line 1\u001b[0m\n\u001b[0;32m----> 1\u001b[0m \u001b[43mmithilesh\u001b[49m\u001b[38;5;241;43m.\u001b[39;49m\u001b[43mwelcome_msg\u001b[49m\u001b[43m(\u001b[49m\u001b[43m)\u001b[49m\n",
      "\u001b[0;31mTypeError\u001b[0m: pwskills.welcome_msg() takes 0 positional arguments but 1 was given"
     ]
    }
   ],
   "source": [
    "mithilesh.welcome_msg()"
   ]
  },
  {
   "cell_type": "code",
   "execution_count": 21,
   "id": "ea69b413-6265-4268-a1d4-a460f46b5c84",
   "metadata": {},
   "outputs": [],
   "source": [
    "class pwskills1:\n",
    "    def __init__(self,phone_no,email_id,student_id):\n",
    "        self.phone_no=phone_no\n",
    "        self.email_id=email_id\n",
    "        self.student_id=student_id\n",
    "    def return_student_details(self):\n",
    "        return self.student_id,self.email_id,self.phone_no"
   ]
  },
  {
   "cell_type": "code",
   "execution_count": 22,
   "id": "44fa8715-226a-4f39-9f4f-2a81f827d92c",
   "metadata": {},
   "outputs": [
    {
     "ename": "TypeError",
     "evalue": "pwskills1.__init__() missing 3 required positional arguments: 'phone_no', 'email_id', and 'student_id'",
     "output_type": "error",
     "traceback": [
      "\u001b[0;31m---------------------------------------------------------------------------\u001b[0m",
      "\u001b[0;31mTypeError\u001b[0m                                 Traceback (most recent call last)",
      "Cell \u001b[0;32mIn[22], line 1\u001b[0m\n\u001b[0;32m----> 1\u001b[0m mithilesh\u001b[38;5;241m=\u001b[39m\u001b[43mpwskills1\u001b[49m\u001b[43m(\u001b[49m\u001b[43m)\u001b[49m\n",
      "\u001b[0;31mTypeError\u001b[0m: pwskills1.__init__() missing 3 required positional arguments: 'phone_no', 'email_id', and 'student_id'"
     ]
    }
   ],
   "source": [
    "mithilesh=pwskills1()"
   ]
  },
  {
   "cell_type": "code",
   "execution_count": 23,
   "id": "eadd7bcf-b29e-4482-b17a-ed5a92b4c5d8",
   "metadata": {},
   "outputs": [],
   "source": [
    "mithilesh=pwskills1(9115455569,\"mithi@gmail.com\",455)"
   ]
  },
  {
   "cell_type": "code",
   "execution_count": 24,
   "id": "49e71586-f1b8-4f68-ba9f-44a225ee81e9",
   "metadata": {},
   "outputs": [
    {
     "data": {
      "text/plain": [
       "(455, 'mithi@gmail.com', 9115455569)"
      ]
     },
     "execution_count": 24,
     "metadata": {},
     "output_type": "execute_result"
    }
   ],
   "source": [
    "mithilesh.return_student_details()"
   ]
  },
  {
   "cell_type": "code",
   "execution_count": 32,
   "id": "e5375f16-7a3c-4d9a-9152-b1371b8df248",
   "metadata": {},
   "outputs": [
    {
     "data": {
      "text/plain": [
       "9115455569"
      ]
     },
     "execution_count": 32,
     "metadata": {},
     "output_type": "execute_result"
    }
   ],
   "source": [
    "mithilesh.phone_no"
   ]
  },
  {
   "cell_type": "code",
   "execution_count": 33,
   "id": "a60b9078-a8a1-4bd3-8f4e-f968e2c50d7c",
   "metadata": {},
   "outputs": [
    {
     "data": {
      "text/plain": [
       "'mithi@gmail.com'"
      ]
     },
     "execution_count": 33,
     "metadata": {},
     "output_type": "execute_result"
    }
   ],
   "source": [
    "mithilesh.email_id"
   ]
  },
  {
   "cell_type": "code",
   "execution_count": 26,
   "id": "739ea41c-4a83-4405-9a6e-5492ba351d15",
   "metadata": {},
   "outputs": [],
   "source": [
    "rohan=pwskills1(685656565,\"rohan@gmail.com\",865)"
   ]
  },
  {
   "cell_type": "code",
   "execution_count": 27,
   "id": "fe8d1a89-c6dc-4bb5-84bb-86d58b894255",
   "metadata": {},
   "outputs": [
    {
     "data": {
      "text/plain": [
       "(865, 'rohan@gmail.com', 685656565)"
      ]
     },
     "execution_count": 27,
     "metadata": {},
     "output_type": "execute_result"
    }
   ],
   "source": [
    "rohan.return_student_details()"
   ]
  },
  {
   "cell_type": "code",
   "execution_count": 28,
   "id": "a9479215-9f99-41f2-b0db-ad10bc411987",
   "metadata": {},
   "outputs": [],
   "source": [
    "class pwskills2:\n",
    "    def __init__(self,phone_no,email_id,student_id):\n",
    "        self.phone_no1=phone_no\n",
    "        self.email_id1=email_id\n",
    "        self.student_id1=student_id\n",
    "    def return_student_details(self):\n",
    "        return self.student_id1,self.email_id1,self.phone_no1"
   ]
  },
  {
   "cell_type": "code",
   "execution_count": 30,
   "id": "b4662cc4-0fa3-4849-80b3-4b9e380d02bd",
   "metadata": {},
   "outputs": [],
   "source": [
    "pragya=pwskills2(7777777777,\"pg@gmail.com\",85)"
   ]
  },
  {
   "cell_type": "code",
   "execution_count": 31,
   "id": "e60f1461-1a08-4437-92f6-f5b5846d5222",
   "metadata": {},
   "outputs": [
    {
     "data": {
      "text/plain": [
       "(85, 'pg@gmail.com', 7777777777)"
      ]
     },
     "execution_count": 31,
     "metadata": {},
     "output_type": "execute_result"
    }
   ],
   "source": [
    "pragya.return_student_details()"
   ]
  },
  {
   "cell_type": "code",
   "execution_count": 34,
   "id": "81dbcac6-5fb8-4395-95b1-1b74b96d8db4",
   "metadata": {},
   "outputs": [
    {
     "ename": "AttributeError",
     "evalue": "'pwskills2' object has no attribute 'email_id'",
     "output_type": "error",
     "traceback": [
      "\u001b[0;31m---------------------------------------------------------------------------\u001b[0m",
      "\u001b[0;31mAttributeError\u001b[0m                            Traceback (most recent call last)",
      "Cell \u001b[0;32mIn[34], line 1\u001b[0m\n\u001b[0;32m----> 1\u001b[0m \u001b[43mpragya\u001b[49m\u001b[38;5;241;43m.\u001b[39;49m\u001b[43memail_id\u001b[49m\n",
      "\u001b[0;31mAttributeError\u001b[0m: 'pwskills2' object has no attribute 'email_id'"
     ]
    }
   ],
   "source": [
    "pragya.email_id"
   ]
  },
  {
   "cell_type": "code",
   "execution_count": 37,
   "id": "ab8c2cbc-7686-4d42-8357-3acb9b682265",
   "metadata": {},
   "outputs": [
    {
     "data": {
      "text/plain": [
       "'pg@gmail.com'"
      ]
     },
     "execution_count": 37,
     "metadata": {},
     "output_type": "execute_result"
    }
   ],
   "source": [
    "pragya.email_id1"
   ]
  },
  {
   "cell_type": "code",
   "execution_count": 38,
   "id": "07a16dae-3a5d-4ab3-b62d-bbfc33eb9a44",
   "metadata": {},
   "outputs": [],
   "source": [
    "class pwskills2:\n",
    "    def __init__(pragya,phone_no,email_id,student_id):\n",
    "        pragya.phone_no2=phone_no\n",
    "        pragya.email_id2=email_id\n",
    "        pragya.student_id2=student_id\n",
    "    def return_student_details(self):\n",
    "        return pragya.student_id2,pragya.email_id2,pragya.phone_no2"
   ]
  },
  {
   "cell_type": "code",
   "execution_count": 39,
   "id": "d5164bc1-8364-48d8-b23c-77aab81bfada",
   "metadata": {},
   "outputs": [],
   "source": [
    "mithi=pwskills2(86795,\"mithi@gmail.com\",757)"
   ]
  },
  {
   "cell_type": "code",
   "execution_count": 40,
   "id": "2125111d-02e0-4b01-9011-d6c92799d806",
   "metadata": {},
   "outputs": [
    {
     "data": {
      "text/plain": [
       "86795"
      ]
     },
     "execution_count": 40,
     "metadata": {},
     "output_type": "execute_result"
    }
   ],
   "source": [
    "mithi.phone_no2"
   ]
  },
  {
   "cell_type": "code",
   "execution_count": null,
   "id": "1824bd09-1858-402a-ba2e-d5878b75e6a4",
   "metadata": {},
   "outputs": [],
   "source": []
  }
 ],
 "metadata": {
  "kernelspec": {
   "display_name": "Python 3 (ipykernel)",
   "language": "python",
   "name": "python3"
  },
  "language_info": {
   "codemirror_mode": {
    "name": "ipython",
    "version": 3
   },
   "file_extension": ".py",
   "mimetype": "text/x-python",
   "name": "python",
   "nbconvert_exporter": "python",
   "pygments_lexer": "ipython3",
   "version": "3.10.8"
  }
 },
 "nbformat": 4,
 "nbformat_minor": 5
}
