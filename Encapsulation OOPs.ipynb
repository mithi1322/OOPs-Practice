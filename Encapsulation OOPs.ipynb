{
 "cells": [
  {
   "cell_type": "code",
   "execution_count": 1,
   "id": "1572c09d-e2f2-446e-8aea-743b13a15d0a",
   "metadata": {},
   "outputs": [],
   "source": [
    "class test:\n",
    "    def __init__(self,a,b):\n",
    "        self.a=a\n",
    "        self.b=b"
   ]
  },
  {
   "cell_type": "code",
   "execution_count": 2,
   "id": "28587054-0417-4197-bc60-3a5a4a58b7a1",
   "metadata": {},
   "outputs": [],
   "source": [
    "t=test(23,43)"
   ]
  },
  {
   "cell_type": "code",
   "execution_count": 3,
   "id": "bbfcea1e-d712-4bfe-9cda-b78b6c2773a4",
   "metadata": {},
   "outputs": [],
   "source": [
    "t.a=478"
   ]
  },
  {
   "cell_type": "code",
   "execution_count": 4,
   "id": "2bedc68c-00f1-4aa2-94de-b96e3922baeb",
   "metadata": {},
   "outputs": [
    {
     "data": {
      "text/plain": [
       "478"
      ]
     },
     "execution_count": 4,
     "metadata": {},
     "output_type": "execute_result"
    }
   ],
   "source": [
    "t.a"
   ]
  },
  {
   "cell_type": "code",
   "execution_count": 5,
   "id": "f9f6a4ad-59e5-47e9-85c4-e61394623ecd",
   "metadata": {},
   "outputs": [],
   "source": [
    "class car:\n",
    "    def __init__(self,year,make,modle,speed):\n",
    "        self.__year=year\n",
    "        self.__make=make\n",
    "        self.__modle=modle\n",
    "        self.__speed=speed\n",
    "        \n",
    "    def set_speed(self,speed):\n",
    "        self.__speed=0 if speed<0 else speed\n",
    "        \n",
    "    def get_speed(self):\n",
    "        return self.__speed"
   ]
  },
  {
   "cell_type": "code",
   "execution_count": 6,
   "id": "aa1f2521-c444-425c-beee-b3ec567ee6e2",
   "metadata": {},
   "outputs": [],
   "source": [
    "c= car(2022,\"toyata\",\"innova\",13)"
   ]
  },
  {
   "cell_type": "code",
   "execution_count": 7,
   "id": "27fb141f-a52d-45d4-bf3e-48c91ba386da",
   "metadata": {},
   "outputs": [
    {
     "data": {
      "text/plain": [
       "2022"
      ]
     },
     "execution_count": 7,
     "metadata": {},
     "output_type": "execute_result"
    }
   ],
   "source": [
    "c._car__year"
   ]
  },
  {
   "cell_type": "code",
   "execution_count": 8,
   "id": "fe872d8a-6b47-4608-b9c4-e4e5daeab9b9",
   "metadata": {},
   "outputs": [],
   "source": [
    "c.set_speed(523)"
   ]
  },
  {
   "cell_type": "code",
   "execution_count": 9,
   "id": "f3e0ebcb-beb6-422f-8aad-02b61aa4900b",
   "metadata": {},
   "outputs": [
    {
     "data": {
      "text/plain": [
       "523"
      ]
     },
     "execution_count": 9,
     "metadata": {},
     "output_type": "execute_result"
    }
   ],
   "source": [
    "c.get_speed()"
   ]
  },
  {
   "cell_type": "code",
   "execution_count": 22,
   "id": "1a08ce85-804d-40ae-81f9-df724ef4a29a",
   "metadata": {},
   "outputs": [],
   "source": [
    "class bank_acc :\n",
    "    def __init__(self,balance):\n",
    "        self.__balance=balance\n",
    "        \n",
    "    def deposit(self,amount):\n",
    "        self.__balance=self.__balance+amount\n",
    "        \n",
    "    def withdraw(self,amount):\n",
    "        if self.__balance>=amount:\n",
    "            self.__balance=self.__balance-amount\n",
    "            return True\n",
    "        else:\n",
    "            return False\n",
    "        \n",
    "    def get_banlance(self):\n",
    "        return self.__balance\n",
    "\n",
    "    "
   ]
  },
  {
   "cell_type": "code",
   "execution_count": 23,
   "id": "0a7394f6-a2c0-4530-92b9-2b30b60dc0ba",
   "metadata": {},
   "outputs": [],
   "source": [
    "mithi= bank_acc(1000)"
   ]
  },
  {
   "cell_type": "code",
   "execution_count": 24,
   "id": "8802f7bf-e0ec-452c-84c4-f1216dcbdd61",
   "metadata": {},
   "outputs": [
    {
     "data": {
      "text/plain": [
       "1000"
      ]
     },
     "execution_count": 24,
     "metadata": {},
     "output_type": "execute_result"
    }
   ],
   "source": [
    "mithi.get_banlance()"
   ]
  },
  {
   "cell_type": "code",
   "execution_count": 25,
   "id": "70c74246-93b5-4f8c-8e4b-08398f35abb8",
   "metadata": {},
   "outputs": [],
   "source": [
    "mithi.deposit(2342)"
   ]
  },
  {
   "cell_type": "code",
   "execution_count": 26,
   "id": "3214b011-abe3-4142-bda7-deb99780c5c1",
   "metadata": {},
   "outputs": [
    {
     "data": {
      "text/plain": [
       "3342"
      ]
     },
     "execution_count": 26,
     "metadata": {},
     "output_type": "execute_result"
    }
   ],
   "source": [
    "mithi.get_banlance()"
   ]
  },
  {
   "cell_type": "code",
   "execution_count": 27,
   "id": "be632eea-0f3a-4502-98fb-c29647590e7e",
   "metadata": {},
   "outputs": [
    {
     "data": {
      "text/plain": [
       "False"
      ]
     },
     "execution_count": 27,
     "metadata": {},
     "output_type": "execute_result"
    }
   ],
   "source": [
    "mithi.withdraw(5000)"
   ]
  },
  {
   "cell_type": "code",
   "execution_count": 28,
   "id": "ea932ace-9681-4a9f-858a-ca82caca4843",
   "metadata": {},
   "outputs": [
    {
     "data": {
      "text/plain": [
       "True"
      ]
     },
     "execution_count": 28,
     "metadata": {},
     "output_type": "execute_result"
    }
   ],
   "source": [
    "mithi.withdraw(342)"
   ]
  },
  {
   "cell_type": "code",
   "execution_count": 29,
   "id": "a189e9dc-7b15-456a-b6df-aa9daae5767c",
   "metadata": {},
   "outputs": [
    {
     "data": {
      "text/plain": [
       "3000"
      ]
     },
     "execution_count": 29,
     "metadata": {},
     "output_type": "execute_result"
    }
   ],
   "source": [
    "mithi.get_banlance()"
   ]
  },
  {
   "cell_type": "code",
   "execution_count": null,
   "id": "36c5f5c8-dedb-40cf-ad90-c0792cc2c31a",
   "metadata": {},
   "outputs": [],
   "source": []
  }
 ],
 "metadata": {
  "kernelspec": {
   "display_name": "Python 3 (ipykernel)",
   "language": "python",
   "name": "python3"
  },
  "language_info": {
   "codemirror_mode": {
    "name": "ipython",
    "version": 3
   },
   "file_extension": ".py",
   "mimetype": "text/x-python",
   "name": "python",
   "nbconvert_exporter": "python",
   "pygments_lexer": "ipython3",
   "version": "3.10.8"
  }
 },
 "nbformat": 4,
 "nbformat_minor": 5
}
