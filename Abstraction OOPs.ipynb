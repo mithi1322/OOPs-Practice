{
 "cells": [
  {
   "cell_type": "code",
   "execution_count": 2,
   "id": "1aa27b15-e086-41e2-aa41-45af6b4a82fe",
   "metadata": {},
   "outputs": [],
   "source": [
    "import abc\n",
    "class pwskils:\n",
    "    @abc.abstractmethod\n",
    "    def student_detials(self):\n",
    "        pass\n",
    "    @abc.abstractmethod\n",
    "    def student_assignment(self):\n",
    "        pass\n",
    "    @abc.abstractmethod\n",
    "    def student_mark(self):\n",
    "        pass\n",
    "        "
   ]
  },
  {
   "cell_type": "code",
   "execution_count": 3,
   "id": "88f5f997-4fb5-4e6e-b663-5e7d30aa524f",
   "metadata": {},
   "outputs": [],
   "source": [
    "class student_datials(pwskils):\n",
    "    \n",
    "    def student_detials(self):\n",
    "        return \"this is a method for taking student details\"\n",
    "    def student_assignment(self):\n",
    "        return \"this is a method for assignment metod for a particular student\""
   ]
  },
  {
   "cell_type": "code",
   "execution_count": 4,
   "id": "56f9596f-8e87-4ab9-8f2f-928be5d2ef2b",
   "metadata": {},
   "outputs": [],
   "source": [
    "class data_science(pwskils):\n",
    "    \n",
    "    def student_detials(self):\n",
    "        return \"this will return a student detials for data science master\"\n",
    "    def student_assignment(self):\n",
    "        return \"this will return you a student assignment detials for data science masters\""
   ]
  },
  {
   "cell_type": "code",
   "execution_count": 9,
   "id": "f23acb4b-fd46-46ff-b6f4-fb044b252175",
   "metadata": {},
   "outputs": [
    {
     "data": {
      "text/plain": [
       "'this will return a student detials for data science master'"
      ]
     },
     "execution_count": 9,
     "metadata": {},
     "output_type": "execute_result"
    }
   ],
   "source": [
    "dsm=data_science()\n",
    "dsm.student_detials()"
   ]
  },
  {
   "cell_type": "code",
   "execution_count": 11,
   "id": "f7bb1fc7-6d8f-48bd-9860-fe49c79d1cc2",
   "metadata": {},
   "outputs": [
    {
     "data": {
      "text/plain": [
       "'this is a method for taking student details'"
      ]
     },
     "execution_count": 11,
     "metadata": {},
     "output_type": "execute_result"
    }
   ],
   "source": [
    "sd=student_datials()\n",
    "sd.student_detials()"
   ]
  },
  {
   "cell_type": "code",
   "execution_count": null,
   "id": "54aa5058-11fa-485a-b15d-4d25dfa5ff09",
   "metadata": {},
   "outputs": [],
   "source": []
  }
 ],
 "metadata": {
  "kernelspec": {
   "display_name": "Python 3 (ipykernel)",
   "language": "python",
   "name": "python3"
  },
  "language_info": {
   "codemirror_mode": {
    "name": "ipython",
    "version": 3
   },
   "file_extension": ".py",
   "mimetype": "text/x-python",
   "name": "python",
   "nbconvert_exporter": "python",
   "pygments_lexer": "ipython3",
   "version": "3.10.8"
  }
 },
 "nbformat": 4,
 "nbformat_minor": 5
}
