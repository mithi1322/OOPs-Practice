{
 "cells": [
  {
   "cell_type": "code",
   "execution_count": 1,
   "id": "a8b1199b-c4bd-4909-b738-9d85650ff13f",
   "metadata": {},
   "outputs": [],
   "source": [
    "class test:\n",
    "    def student_details(self,name,roll_no, number):\n",
    "        print(name,roll_no,number)"
   ]
  },
  {
   "cell_type": "code",
   "execution_count": 2,
   "id": "22a295bd-412b-4aa8-ba44-962b51d8f96a",
   "metadata": {},
   "outputs": [],
   "source": [
    "obj=test()"
   ]
  },
  {
   "cell_type": "code",
   "execution_count": 3,
   "id": "9777d552-08de-4a18-8233-0e424f673897",
   "metadata": {},
   "outputs": [
    {
     "name": "stdout",
     "output_type": "stream",
     "text": [
      "Mithilesh 32 87826\n"
     ]
    }
   ],
   "source": [
    "obj.student_details(\"Mithilesh\",32,87826)"
   ]
  },
  {
   "cell_type": "code",
   "execution_count": 4,
   "id": "a796444f-e94d-45f0-acb8-3b0d50ba5819",
   "metadata": {},
   "outputs": [],
   "source": [
    "class test1:\n",
    "    def student_details(self,name,roll_no, number):\n",
    "        print(name,roll_no,number)\n",
    "        \n",
    "    @staticmethod\n",
    "    def mentor_class(list_mentor):\n",
    "        print(list_mentor)\n",
    "        \n",
    "    def mentor(self,mentor_list):\n",
    "        print(mentor_list)"
   ]
  },
  {
   "cell_type": "code",
   "execution_count": 5,
   "id": "49a835d6-9e9b-4bae-96f1-b66686e89857",
   "metadata": {},
   "outputs": [
    {
     "name": "stdout",
     "output_type": "stream",
     "text": [
      "['sudhanshu', 'krish']\n"
     ]
    }
   ],
   "source": [
    "test1.mentor_class([\"sudhanshu\",\"krish\"])"
   ]
  },
  {
   "cell_type": "code",
   "execution_count": 6,
   "id": "e3f88a1b-34f7-4bad-8818-9bae8f45c563",
   "metadata": {},
   "outputs": [],
   "source": [
    "stu1=test1()"
   ]
  },
  {
   "cell_type": "code",
   "execution_count": 7,
   "id": "ca824865-aede-490a-ab10-17f0b0bc42b1",
   "metadata": {},
   "outputs": [],
   "source": [
    "stu2=test1()"
   ]
  },
  {
   "cell_type": "code",
   "execution_count": 8,
   "id": "85fea6b4-c175-4e9b-90c2-4fb3fb3be533",
   "metadata": {},
   "outputs": [
    {
     "name": "stdout",
     "output_type": "stream",
     "text": [
      "['sudhanshu', 'krish']\n"
     ]
    }
   ],
   "source": [
    "stu1.mentor([\"sudhanshu\",\"krish\"])"
   ]
  },
  {
   "cell_type": "code",
   "execution_count": 9,
   "id": "f0054460-24fa-4ab5-b2fc-5c6adbf1dfa4",
   "metadata": {},
   "outputs": [],
   "source": [
    "class test2:\n",
    "    def student_details(self,name,roll_no, number):\n",
    "        print(name,roll_no,number)\n",
    "    @staticmethod\n",
    "    def mentor_mail_id(mail_id_mentor):\n",
    "        print(mail_id_mentor)\n",
    "        \n",
    "    @staticmethod\n",
    "    def mentor_class(list_mentor):\n",
    "        test2.mentor_mail_id([\"sudh@gmail.com\",\"krish@gmail.com\"])\n",
    "        print(list_mentor)\n",
    "        \n",
    "    @classmethod\n",
    "    def class_name(cls):\n",
    "        cls.mentor_class([\"sudhanshu\",\"krish\"])\n",
    "        \n",
    "    def mentor(self,mentor_list):\n",
    "        print(mentor_list)\n",
    "        self.mentor_class([\"sudhanshu\",\"krish\"])"
   ]
  },
  {
   "cell_type": "code",
   "execution_count": 10,
   "id": "5cb035b4-19c1-44ac-9d82-2dcc01a848da",
   "metadata": {},
   "outputs": [
    {
     "name": "stdout",
     "output_type": "stream",
     "text": [
      "['sudh@gmail.com', 'krish@gmail.com']\n",
      "['sudhanshu', 'krish']\n"
     ]
    }
   ],
   "source": [
    "test2.mentor_class([\"sudhanshu\",\"krish\"])"
   ]
  },
  {
   "cell_type": "code",
   "execution_count": 11,
   "id": "c5de59c7-ae9e-422d-8929-52d5554dfa8e",
   "metadata": {},
   "outputs": [
    {
     "name": "stdout",
     "output_type": "stream",
     "text": [
      "['sudh@gmail.com', 'krish@gmail.com']\n",
      "['sudhanshu', 'krish']\n"
     ]
    }
   ],
   "source": [
    "test2.class_name()\n"
   ]
  },
  {
   "cell_type": "code",
   "execution_count": 12,
   "id": "b6d9ffc4-ae9d-4e07-9379-67b0805442d1",
   "metadata": {},
   "outputs": [],
   "source": [
    "obj1=test2()"
   ]
  },
  {
   "cell_type": "code",
   "execution_count": 13,
   "id": "043dd3a9-8191-44a1-b07f-76c902c7ff93",
   "metadata": {},
   "outputs": [
    {
     "name": "stdout",
     "output_type": "stream",
     "text": [
      "['krish', 'sudh']\n",
      "['sudh@gmail.com', 'krish@gmail.com']\n",
      "['sudhanshu', 'krish']\n"
     ]
    }
   ],
   "source": [
    "obj1.mentor([\"krish\",\"sudh\"])"
   ]
  },
  {
   "cell_type": "code",
   "execution_count": null,
   "id": "b649bebf-731b-493a-b188-161deb4fcd53",
   "metadata": {},
   "outputs": [],
   "source": []
  }
 ],
 "metadata": {
  "kernelspec": {
   "display_name": "Python 3 (ipykernel)",
   "language": "python",
   "name": "python3"
  },
  "language_info": {
   "codemirror_mode": {
    "name": "ipython",
    "version": 3
   },
   "file_extension": ".py",
   "mimetype": "text/x-python",
   "name": "python",
   "nbconvert_exporter": "python",
   "pygments_lexer": "ipython3",
   "version": "3.10.8"
  }
 },
 "nbformat": 4,
 "nbformat_minor": 5
}
