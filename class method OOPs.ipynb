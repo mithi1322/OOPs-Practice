{
 "cells": [
  {
   "cell_type": "code",
   "execution_count": 3,
   "id": "26b959ce-5b7b-4c7c-a541-b71a00857c15",
   "metadata": {},
   "outputs": [],
   "source": [
    "class pwskills():\n",
    "    def __init__(self,name,email):\n",
    "        self.name=name\n",
    "        self.email=email\n",
    "        \n",
    "    def student_details(self):\n",
    "        print(self.name,self.email)"
   ]
  },
  {
   "cell_type": "code",
   "execution_count": 4,
   "id": "cbc61c77-5729-4cea-973a-b1e2af448671",
   "metadata": {},
   "outputs": [],
   "source": [
    "pw=pwskills(\"Mithilesh\",\"mithi@gmail.com\")"
   ]
  },
  {
   "cell_type": "code",
   "execution_count": 5,
   "id": "e2831cfb-ecab-4d8e-bd83-a80258b25abf",
   "metadata": {},
   "outputs": [
    {
     "data": {
      "text/plain": [
       "'Mithilesh'"
      ]
     },
     "execution_count": 5,
     "metadata": {},
     "output_type": "execute_result"
    }
   ],
   "source": [
    "pw.name"
   ]
  },
  {
   "cell_type": "code",
   "execution_count": 6,
   "id": "31993371-730f-418e-84d0-277235781132",
   "metadata": {},
   "outputs": [
    {
     "data": {
      "text/plain": [
       "'mithi@gmail.com'"
      ]
     },
     "execution_count": 6,
     "metadata": {},
     "output_type": "execute_result"
    }
   ],
   "source": [
    "pw.email"
   ]
  },
  {
   "cell_type": "code",
   "execution_count": 8,
   "id": "e67ae2a1-0e8e-4a89-9481-96b838218da9",
   "metadata": {},
   "outputs": [
    {
     "name": "stdout",
     "output_type": "stream",
     "text": [
      "Mithilesh mithi@gmail.com\n"
     ]
    }
   ],
   "source": [
    "pw.student_details()"
   ]
  },
  {
   "cell_type": "code",
   "execution_count": 10,
   "id": "00e4f3fc-5d2f-41d9-8a92-deb2ef20cf39",
   "metadata": {},
   "outputs": [],
   "source": [
    "class pwskills1():\n",
    "    def __init__(self,name,email):\n",
    "        self.name=name\n",
    "        self.email=email\n",
    "    \n",
    "    @classmethod\n",
    "    def details(cls,name,email):\n",
    "        return cls(name,email)\n",
    "    \n",
    "    def student_details(self):\n",
    "        print(self.name,self.email)"
   ]
  },
  {
   "cell_type": "code",
   "execution_count": 12,
   "id": "d87d96fa-4bef-49eb-b953-628a16c46c64",
   "metadata": {},
   "outputs": [],
   "source": [
    "pw1=pwskills1.details('mithilesh','jaiswalji@gmail.com')"
   ]
  },
  {
   "cell_type": "code",
   "execution_count": 13,
   "id": "a3ad5cc1-0038-4d15-95fd-5f11178b21b4",
   "metadata": {},
   "outputs": [
    {
     "data": {
      "text/plain": [
       "'mithilesh'"
      ]
     },
     "execution_count": 13,
     "metadata": {},
     "output_type": "execute_result"
    }
   ],
   "source": [
    "pw1.name"
   ]
  },
  {
   "cell_type": "code",
   "execution_count": 14,
   "id": "3c9acb48-8251-48ca-a3d7-27878828d2b1",
   "metadata": {},
   "outputs": [
    {
     "data": {
      "text/plain": [
       "'jaiswalji@gmail.com'"
      ]
     },
     "execution_count": 14,
     "metadata": {},
     "output_type": "execute_result"
    }
   ],
   "source": [
    "pw1.email"
   ]
  },
  {
   "cell_type": "code",
   "execution_count": 16,
   "id": "7d44385d-6c1a-47e4-8c43-f9a60e11bade",
   "metadata": {},
   "outputs": [
    {
     "name": "stdout",
     "output_type": "stream",
     "text": [
      "mithilesh jaiswalji@gmail.com\n"
     ]
    }
   ],
   "source": [
    "pw1.student_details()"
   ]
  },
  {
   "cell_type": "code",
   "execution_count": 29,
   "id": "1ffbf89a-906e-4159-bda7-b04447cd6c76",
   "metadata": {},
   "outputs": [],
   "source": [
    "class pwskills2():\n",
    "    mob_no=921381718\n",
    "    def __init__(self,name,email):\n",
    "        self.name=name\n",
    "        self.email=email\n",
    "        \n",
    "    @classmethod\n",
    "    def change_no(cls,mobile):\n",
    "        pwskills.mob_no=mobile\n",
    "    \n",
    "    @classmethod\n",
    "    def details(cls,name,email):\n",
    "        return cls(name,email)\n",
    "    \n",
    "    def student_details(self):\n",
    "        print(self.name,self.email,pwskills.mob_no)"
   ]
  },
  {
   "cell_type": "code",
   "execution_count": 30,
   "id": "159b621a-f9ed-419b-8804-7a0de02e5a2f",
   "metadata": {},
   "outputs": [],
   "source": [
    "pw=pwskills2.details(\"Mithi\",\"mithi@gmail.com\")"
   ]
  },
  {
   "cell_type": "code",
   "execution_count": 31,
   "id": "9d8427a8-a106-48ff-89a5-6d0428168307",
   "metadata": {},
   "outputs": [
    {
     "name": "stdout",
     "output_type": "stream",
     "text": [
      "Mithi mithi@gmail.com 83628681\n"
     ]
    }
   ],
   "source": [
    "pw.student_details()"
   ]
  },
  {
   "cell_type": "code",
   "execution_count": 32,
   "id": "fe338f68-1c36-46c1-8c0a-e2b97ba7d970",
   "metadata": {},
   "outputs": [],
   "source": [
    "pw_obj=pwskills2(\"Mithilesh\",\"jaiswalji@gmail.com\")"
   ]
  },
  {
   "cell_type": "code",
   "execution_count": 33,
   "id": "cae4b2cf-fc85-4e18-9261-8a3c98fe4790",
   "metadata": {},
   "outputs": [
    {
     "name": "stdout",
     "output_type": "stream",
     "text": [
      "Mithilesh jaiswalji@gmail.com 83628681\n"
     ]
    }
   ],
   "source": [
    "pw_obj.student_details()"
   ]
  },
  {
   "cell_type": "code",
   "execution_count": 34,
   "id": "bc3c06e7-a1be-41b7-b142-39b2e76b80e4",
   "metadata": {},
   "outputs": [
    {
     "data": {
      "text/plain": [
       "921381718"
      ]
     },
     "execution_count": 34,
     "metadata": {},
     "output_type": "execute_result"
    }
   ],
   "source": [
    "pwskills2.mob_no"
   ]
  },
  {
   "cell_type": "code",
   "execution_count": 35,
   "id": "bb27d7af-a730-472f-9229-8eb573090a8f",
   "metadata": {},
   "outputs": [],
   "source": [
    "pwskills2.change_no(83628681)"
   ]
  },
  {
   "cell_type": "code",
   "execution_count": 36,
   "id": "c8b24efe-87cd-4bf6-8942-f133e8f83f69",
   "metadata": {},
   "outputs": [
    {
     "data": {
      "text/plain": [
       "83628681"
      ]
     },
     "execution_count": 36,
     "metadata": {},
     "output_type": "execute_result"
    }
   ],
   "source": [
    "pwskills.mob_no"
   ]
  },
  {
   "cell_type": "markdown",
   "id": "f2c6ba6d-1ab9-4187-a013-de8e4c6632b6",
   "metadata": {},
   "source": [
    "how to add external function to a part of any class"
   ]
  },
  {
   "cell_type": "code",
   "execution_count": 40,
   "id": "651bcc14-6b9c-43b0-9444-683d9f9e9ed0",
   "metadata": {},
   "outputs": [],
   "source": [
    "class pwskills3():\n",
    "    mob_no=921381718\n",
    "    def __init__(self,name,email):\n",
    "        self.name=name\n",
    "        self.email=email\n",
    "        \n",
    "    @classmethod\n",
    "    def change_no(cls,mobile):\n",
    "        pwskills.mob_no=mobile\n",
    "    \n",
    "    @classmethod\n",
    "    def details(cls,name,email):\n",
    "        return cls(name,email)\n",
    "    \n",
    "    def student_details(self):\n",
    "        print(self.name,self.email,pwskills.mob_no)"
   ]
  },
  {
   "cell_type": "code",
   "execution_count": 43,
   "id": "aa409b09-c5c2-4512-9827-8a73cba1fc4d",
   "metadata": {},
   "outputs": [],
   "source": [
    "def course_details(cls,course_name):\n",
    "    print(\"course name is: \",course_name)"
   ]
  },
  {
   "cell_type": "code",
   "execution_count": 44,
   "id": "1adf3372-de2b-481e-b325-3915e8af7753",
   "metadata": {},
   "outputs": [],
   "source": [
    "pwskills3.course_details=classmethod(course_details)"
   ]
  },
  {
   "cell_type": "code",
   "execution_count": 45,
   "id": "bde52444-4e51-4e06-b0a9-236dd4633908",
   "metadata": {},
   "outputs": [
    {
     "name": "stdout",
     "output_type": "stream",
     "text": [
      "course name is:  data science master\n"
     ]
    }
   ],
   "source": [
    "pwskills3.course_details(\"data science master\")"
   ]
  },
  {
   "cell_type": "code",
   "execution_count": 46,
   "id": "e8a98a44-22b7-4ebf-b1b2-ad0fcee6bffe",
   "metadata": {},
   "outputs": [],
   "source": [
    "def mentor(cls,list_of_mentor):\n",
    "    print(list_of_mentor)"
   ]
  },
  {
   "cell_type": "code",
   "execution_count": 47,
   "id": "c9fcc3db-3710-4425-aedc-9e59753eaff5",
   "metadata": {},
   "outputs": [],
   "source": [
    "pwskills3.mentor=classmethod(mentor)"
   ]
  },
  {
   "cell_type": "code",
   "execution_count": 49,
   "id": "38688706-54fd-4bde-bab4-b46363f72819",
   "metadata": {},
   "outputs": [
    {
     "name": "stdout",
     "output_type": "stream",
     "text": [
      "['sudhanshu', 'krish naik']\n"
     ]
    }
   ],
   "source": [
    "pwskills3.mentor([\"sudhanshu\",\"krish naik\"])"
   ]
  },
  {
   "cell_type": "markdown",
   "id": "317cf9d1-1259-4093-9e57-c41fbb364534",
   "metadata": {},
   "source": [
    "How to remove any class function from my class or How to deactivate function from my class "
   ]
  },
  {
   "cell_type": "code",
   "execution_count": 51,
   "id": "0fb1fca1-df5d-4c2c-9017-51cd125e8f86",
   "metadata": {},
   "outputs": [],
   "source": [
    "class pwskills4():\n",
    "    mob_no=921381718\n",
    "    def __init__(self,name,email):\n",
    "        self.name=name\n",
    "        self.email=email\n",
    "        \n",
    "    @classmethod\n",
    "    def change_no(cls,mobile):\n",
    "        pwskills.mob_no=mobile\n",
    "    \n",
    "    @classmethod\n",
    "    def details(cls,name,email):\n",
    "        return cls(name,email)\n",
    "    \n",
    "    def student_details(self):\n",
    "        print(self.name,self.email,pwskills.mob_no)"
   ]
  },
  {
   "cell_type": "code",
   "execution_count": 52,
   "id": "66b8d3e0-d522-468a-bc0c-719175162af6",
   "metadata": {},
   "outputs": [],
   "source": [
    "del pwskills4.change_no"
   ]
  },
  {
   "cell_type": "code",
   "execution_count": 54,
   "id": "a53bd8c0-8aa4-46d2-8036-19d5d0b1d085",
   "metadata": {},
   "outputs": [
    {
     "ename": "AttributeError",
     "evalue": "type object 'pwskills4' has no attribute 'change_no'",
     "output_type": "error",
     "traceback": [
      "\u001b[0;31m---------------------------------------------------------------------------\u001b[0m",
      "\u001b[0;31mAttributeError\u001b[0m                            Traceback (most recent call last)",
      "Cell \u001b[0;32mIn[54], line 1\u001b[0m\n\u001b[0;32m----> 1\u001b[0m \u001b[43mpwskills4\u001b[49m\u001b[38;5;241;43m.\u001b[39;49m\u001b[43mchange_no\u001b[49m(\u001b[38;5;241m21314\u001b[39m)\n",
      "\u001b[0;31mAttributeError\u001b[0m: type object 'pwskills4' has no attribute 'change_no'"
     ]
    }
   ],
   "source": [
    "pwskills4.change_no(21314)"
   ]
  },
  {
   "cell_type": "code",
   "execution_count": 55,
   "id": "b892948f-57f9-4ebd-807e-8a7b1b695b6e",
   "metadata": {},
   "outputs": [],
   "source": [
    "delattr(pwskills4,\"details\")"
   ]
  },
  {
   "cell_type": "code",
   "execution_count": 57,
   "id": "aa76859b-231d-41f9-9549-283061415e4e",
   "metadata": {},
   "outputs": [],
   "source": [
    "delattr(pwskills4,\"mob_no\")"
   ]
  },
  {
   "cell_type": "code",
   "execution_count": null,
   "id": "6b665868-4d6f-449a-b279-5fa3d9547d0c",
   "metadata": {},
   "outputs": [],
   "source": []
  }
 ],
 "metadata": {
  "kernelspec": {
   "display_name": "Python 3 (ipykernel)",
   "language": "python",
   "name": "python3"
  },
  "language_info": {
   "codemirror_mode": {
    "name": "ipython",
    "version": 3
   },
   "file_extension": ".py",
   "mimetype": "text/x-python",
   "name": "python",
   "nbconvert_exporter": "python",
   "pygments_lexer": "ipython3",
   "version": "3.10.8"
  }
 },
 "nbformat": 4,
 "nbformat_minor": 5
}
